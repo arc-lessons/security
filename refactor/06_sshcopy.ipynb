{
 "cells": [
  {
   "cell_type": "markdown",
   "metadata": {},
   "source": [
    "# Using ssh-copy-id to add your key"
   ]
  },
  {
   "cell_type": "markdown",
   "metadata": {},
   "source": [
    "## Overview:\n",
    "- **Teaching:** 15 min\n",
    "- **Exercises:** 0 min\n",
    "\n",
    "**Questions**\n",
    "- How do I add my own keys to unmanaged services?\n",
    "- Where does ssh store my public key\n",
    "\n",
    "**Objectives**\n",
    "- Know how to use `ssh-copy-id` to add your key to a remote service\n",
    "- Know that keys are added to `~/.ssh/authorized_keys` on the remote system"
   ]
  },
  {
   "cell_type": "markdown",
   "metadata": {},
   "source": [
    "## Copy the public part of the key to the remote host\n",
    "\n",
    "When you create the key pair two files will be generated, a private key e.g. `id_ed25519` (or `id_rsa`) and the public key `id_ed25519.pub` (or `id_rsa.pub`).  Your private key should never be copied to different machines, however, in order to use your key pair you do need to copy the public key to the remote machine.\n",
    "\n",
    "Using you normal login password, add the public part of your key pair to the authorized\\_keys file on the remote host to which you wish to connect. We can use the utility `ssh_copy_id` to do this:\n",
    "\n",
    "```bash\n",
    "ssh_copy_id -i ~/.ssh/id_ed25519.pub [userID]@<hpc-service>\n",
    "```\n",
    "\n",
    "Now you can test that your key pair is working correctly by attempting to connect to the remote host and run a command. You should be asked for your key pair **passphase** (which you entered when you created the key pair) rather than your remote machine **password**.\n",
    "\n",
    "```\n",
    "ssh [userID]@<hpc-service> 'date'\n",
    "Enter passphrase for key '/Home/user/.ssh/id_rsa': [Passphrase]\n",
    "Wed May  8 10:36:48 BST 2020\n",
    "```\n",
    "\n",
    "We have run `date` on the remote server to confirm that we have been able to use the key pair, and **passphrase** to log in."
   ]
  },
  {
   "cell_type": "markdown",
   "metadata": {},
   "source": [
    "### Information: What is `ssh-copy-id` doing?\n",
    "\n",
    "`ssh-copy-id` is appending the contents of the public part of the key to the remote file `~/.ssh/authorized_keys`.\n",
    "\n",
    "You could also copy and paste your public key into the remote `~/.ssh/authorized_keys` but using the provided tool makes this easier.  \n",
    "\n",
    "*If you do this make sure that you don't replace existing keys that you want to keep.*"
   ]
  },
  {
   "cell_type": "markdown",
   "metadata": {},
   "source": [
    "## Key Points:\n",
    "\n",
    "- use `ssh-copy-id` to add your key to a remote service\n",
    "- keys are added to `~/.ssh/authorized_keys` on the remote system"
   ]
  }
 ],
 "metadata": {
  "kernelspec": {
   "display_name": "Python 3",
   "language": "python",
   "name": "python3"
  },
  "language_info": {
   "codemirror_mode": {
    "name": "ipython",
    "version": 3
   },
   "file_extension": ".py",
   "mimetype": "text/x-python",
   "name": "python",
   "nbconvert_exporter": "python",
   "pygments_lexer": "ipython3",
   "version": "3.7.4"
  }
 },
 "nbformat": 4,
 "nbformat_minor": 2
}

{
 "cells": [
  {
   "cell_type": "markdown",
   "metadata": {},
   "source": [
    "# Strong passwords"
   ]
  },
  {
   "cell_type": "markdown",
   "metadata": {},
   "source": [
    "## Overview:\n",
    "- **Teaching:** 10 min\n",
    "- **Exercises:** 0 min\n",
    "\n",
    "**Questions**\n",
    "- What constitutes a strong password?\n",
    "\n",
    "**Objectives**\n",
    "- Understand that we should keep our passwords safe\n",
    "- Know that complex passwords needn't be difficult to remember (or type)"
   ]
  },
  {
   "cell_type": "markdown",
   "metadata": {},
   "source": [
    "## Protect your password\n",
    "\n",
    "Most security issues arise when we don't protect our passwords.\n",
    "Saving our passwords or not logging off shared resources, leaving our computers unlocked or phishing attacks.\n",
    "These can range from the accidental or opportune to sophisticated attempts to get us to provide information.\n",
    "Many meail providers now take signficant steps to ensure that emails are authentic and don't include links to suspicious websites.\n",
    "But we must #StayAlert, never share your password or enter it on a site that you are not certain is valid."
   ]
  },
  {
   "cell_type": "markdown",
   "metadata": {},
   "source": [
    "![Compromised credentials](https://imgs.xkcd.com/comics/security.png)"
   ]
  },
  {
   "cell_type": "markdown",
   "metadata": {},
   "source": [
    "### Initial passwords\n",
    "On local, HPC systems you may be able to use your standard institutional credentials.  On other services you will typically be provided with your initial password for logging onto the system.\n",
    "\n",
    "When you log into a new service for the first time you will likely be asked to change your password. If you are not, you should change it at first log-in with the command `passwd`.  Once you have logged in or run the command, the password change sequence is:\n",
    "\n",
    "1. Enter your current password:\n",
    "2. Enter a new **strong** password \n",
    "3. Re-enter the same new password.\n",
    "\n",
    "There may be a forced password policy to help ensure that you are using a strong password.\n",
    "\n",
    "N.B. You may be logged out and can now log back in with your new password.\n",
    "\n",
    "You may now change your password on the machine itself using the `passwd` command.  If you forget your password, you should contact your system administrator/helpdesk."
   ]
  },
  {
   "cell_type": "markdown",
   "metadata": {},
   "source": [
    "## Information: Strong Passwords\n",
    "\n",
    "Traditionally advice about strong passwords it typically along the lines of:\n",
    "\n",
    "A strong password describes a password that is difficult to detect by both humans and computer programs, effectively protecting data from unauthorized access. A strong password consists of at least twelve characters (and the more characters, the stronger the password) that are a combination of letters, numbers and symbols (@, #, $, %, etc.) if allowed. Passwords are typically case-sensitive, so a strong password contains letters in both uppercase and lowercase. Strong passwords also do not contain words that can be found in a dictionary or parts of the user's own name.\n",
    "\n",
    "Based on [https://www.webopedia.com/TERM/S/strong_password.html](https://www.webopedia.com/TERM/S/strong_password.html)"
   ]
  },
  {
   "cell_type": "markdown",
   "metadata": {},
   "source": [
    "![Strong passwords needn't be complex](https://imgs.xkcd.com/comics/password_strength.png)"
   ]
  },
  {
   "cell_type": "markdown",
   "metadata": {},
   "source": [
    "The problem with this is indicated in the xkcd cartoon reproduced above.  Often this will cause us to choose a password which is difficult to remember.  Furthermore, if not random but based on a single complex word it will often be relatively easy for a computer to crack.\n",
    "\n",
    "Many security conscious organisations are now recommending against what was traditionally considered the good password style (the one used by that source) and are moving towards the XKCD-style passphrase, three or four random words, due to being easier to remember and harder to guess. This is not just for humour but has been promoted by the [National Cyber Security Centre](https://www.ncsc.gov.uk/blog-post/three-random-words-or-thinkrandom-0) for a number of years. "
   ]
  },
  {
   "cell_type": "markdown",
   "metadata": {},
   "source": [
    "Alternatively use [machine generated passwords](https://www.ncsc.gov.uk/collection/passwords/updating-your-approach#tip5-password-collection), but these rely on the users using a password manager (or having excellent memory) and being comfortable with using it from the terminal (or copying the password across every time the need it) if used for SSH."
   ]
  },
  {
   "cell_type": "markdown",
   "metadata": {},
   "source": [
    "## Information: Common advice is not the most secure\n",
    "\n",
    "It's possible that some of the systems being used enforce traditional password rules and don't accept XKCD-style passwords, but this in general is a fault with the password policy which they should be encouraged to change.  We have a shared responsibility and operators should be recognising changing advice on password formats.\n",
    "\n",
    "You can experiment generating your own [XKCD style password](https://preshing.com/20110811/xkcd-password-generator/)."
   ]
  },
  {
   "cell_type": "markdown",
   "metadata": {},
   "source": [
    "## Key Points:\n",
    "\n",
    "- Human error is the most common cause of security breaches\n",
    "- Use strong passwords and never share them with others\n",
    "- Consider using XKCD style passwords \n",
    "- or encourage your system operators to allow them if not permitted"
   ]
  }
 ],
 "metadata": {
  "kernelspec": {
   "display_name": "Python 3",
   "language": "python",
   "name": "python3"
  },
  "language_info": {
   "codemirror_mode": {
    "name": "ipython",
    "version": 3
   },
   "file_extension": ".py",
   "mimetype": "text/x-python",
   "name": "python",
   "nbconvert_exporter": "python",
   "pygments_lexer": "ipython3",
   "version": "3.7.4"
  }
 },
 "nbformat": 4,
 "nbformat_minor": 2
}

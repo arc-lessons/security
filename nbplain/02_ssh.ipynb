{
 "cells": [
  {
   "cell_type": "markdown",
   "metadata": {},
   "source": [
    "# Using SSH to access remote services"
   ]
  },
  {
   "cell_type": "markdown",
   "metadata": {},
   "source": [
    "## Overview:\n",
    "- **Teaching:** 20 min\n",
    "- **Exercises:** 0 min\n",
    "\n",
    "**Questions**\n",
    "- How can I access remote HPC systems?\n",
    "- What ssh software can I use on different operatiing systems?\n",
    "\n",
    "**Objectives**\n",
    "- Know how to use SSH to access remote serices and move data.\n",
    "- Know that a number of GUI clients can be used to help manage your `ssh` use."
   ]
  },
  {
   "cell_type": "markdown",
   "metadata": {},
   "source": [
    "## SSH Clients\n",
    "\n",
    "As HPC services are remote machines, interaction is done over an encrypted communication channel called Secure Shell version 2 (SSH-2). This allows command-line access to remote systems such as the login nodes of HPC services.  From these you can run commands, submit jobs or use a command-line text editor to edit files. `ssh` can also be used to run graphical programs such as GUI text editors and debuggers when used in conjunction with an X server."
   ]
  },
  {
   "cell_type": "markdown",
   "metadata": {},
   "source": [
    "### Logging in from Linux and macOS\n",
    "\n",
    "Linux distributions and macOS each come with an installed terminal application that can be used that can be use for SSH access to the login nodes. Linux users will have different terminals depending on their distribution and window manager (e.g. GNOME Terminal in GNOME, Konsole in KDE). Consult your Linux distribution’s documentation for details on how to load a terminal.\n",
    "\n",
    "macOS users can use the Terminal application, located in the Utilities folder within the Applications folder.\n",
    "\n",
    "You can use the following command from the terminal window to login into an HPC service:\n",
    "\n",
    "```bash\n",
    "ssh [userID]@<hpc-service>\n",
    "```\n",
    "\n",
    "To allow remote programs, especially graphical applications to control your local display, such as being able to open up a new GUI window (such as for a debugger), use:\n",
    "\n",
    "```bash\n",
    "ssh -X [userID]@<hpc-service>\n",
    "```\n",
    "\n",
    "Some sites recommend using the -Y flag. While this can fix some compatibility issues, the -X flag is more secure.\n",
    "\n",
    "Current macOS systems do not have an X window system installed by default. Users should install the XQuartz package to allow for SSH with X11 forwarding on macOS systems:\n",
    "\n",
    "* [XQuartz website](https://www.xquartz.org/)"
   ]
  },
  {
   "cell_type": "markdown",
   "metadata": {},
   "source": [
    "### Logging in from Windows\n",
    "\n",
    "#### MobaXterm\n",
    "A typical Windows installation will not include a terminal client, though there are various clients available. We recommend all our Windows users to download and install MobaXterm to access HPC facilities. It is very easy to use and includes an integrated X server with SSH client to run any graphical applications.\n",
    "\n",
    "You can download MobaXterm Home Edition (Installer Edition) from the following link:\n",
    "\n",
    "* [Install MobaXterm](https://mobaxterm.mobatek.net/download-home-edition.html)\n",
    "\n",
    "Double-click the downloaded Microsoft Installer file (.msi), and the Windows wizard will automatically guides you through the installation process. Note, you might need to have administrator rights to install on some Windows OS. Also make sure to check whether Windows Firewall hasn’t blocked any features of this program after installation.\n",
    "\n",
    "Start MobaXterm using, for example, the icon added to the Start menu during the installation process.\n",
    "\n",
    "If you would like to run any small remote GUI applications, then make sure to use -X option along with the ssh command (see above) to enable X11 forwarding, which allows you to run graphical clients on your local X server.\n",
    "\n",
    "#### Putty\n",
    "\n",
    "A common option found on many University systems is to use Putty/Kitty\n",
    "\n",
    "* [Download Putty](https://www.chiark.greenend.org.uk/~sgtatham/putty/latest.html), you should dowload putty and also download puttygen to generate keys and pageant if you want to use an agent to manage your keys.\n",
    "\n",
    "#### WSL\n",
    "\n",
    "If you are using Windows Subsytem for Linux then you can install `ssh` as described above in Logging in from Linux and macOS."
   ]
  },
  {
   "cell_type": "markdown",
   "metadata": {},
   "source": [
    "### Information: Moving data\n",
    "\n",
    "There a number of programs that use the`ssh` protocol to transfer data: `scp`, `rsync` or `sftp`.  Alll of the advice that follows applies to the programs as well."
   ]
  },
  {
   "cell_type": "markdown",
   "metadata": {},
   "source": [
    "## Key Points:\n",
    "\n",
    "- ssh is a secure protocol for accessing remotes services and transfering data\n",
    "- ssh is available on Linux systems and in GUIs such as Putty and MobaXterm on Windows"
   ]
  }
 ],
 "metadata": {
  "kernelspec": {
   "display_name": "Python 3",
   "language": "python",
   "name": "python3"
  },
  "language_info": {
   "codemirror_mode": {
    "name": "ipython",
    "version": 3
   },
   "file_extension": ".py",
   "mimetype": "text/x-python",
   "name": "python",
   "nbconvert_exporter": "python",
   "pygments_lexer": "ipython3",
   "version": "3.7.4"
  }
 },
 "nbformat": 4,
 "nbformat_minor": 2
}

{
 "cells": [
  {
   "cell_type": "markdown",
   "metadata": {},
   "source": [
    "# Forwarding your ssh-agent"
   ]
  },
  {
   "cell_type": "markdown",
   "metadata": {},
   "source": [
    "## Overview:\n",
    "- **Teaching:** 20 min\n",
    "- **Exercises:** 0 min\n",
    "\n",
    "**Questions**\n",
    "- How can I use keys to connect or transfer data between remote services?\n",
    "\n",
    "**Objectives**\n",
    "- Know that you can make your local ssh-agent available on your remotes by specificyin `ForwardAgent yes` in your ssh config"
   ]
  },
  {
   "cell_type": "markdown",
   "metadata": {},
   "source": [
    "## Information: Remote key pairs\n",
    "\n",
    "You should never store the private key on a shared resource.  On some HPC services you may see that a key pair has been created automatically in you **remote** `.ssh` folder.  This is used by some schedulers to manage communication and should only be used by the system for internal communcations e.g. you logging onto nodes running jobs or interactive sessions and parallel communcations within jobs.  \n",
    "\n",
    "***These keys are not protected by passphrases and should never be used for onward connections from the remote service.***"
   ]
  },
  {
   "cell_type": "markdown",
   "metadata": {},
   "source": [
    "## Agent Forwarding\n",
    "\n",
    "We are now able to connect securely and conveniently to remote systems.  But what happens if we want to move data between remote systems.  We can use agent forwarding to enable the use of keys stored in our local agent on the remote systems.  This allows us use our private keys for onward connections without having to store a copy of the private key on the shared system.\n",
    "\n",
    "First we must modify our `~/.ssh/config` to turn on agent forwarding for each host where we want to enable it.  e.g. we would do include this for a remote service that where we wanted to push to another sytem or e.g. github, but would not use include it for github:\n",
    "\n",
    "```bash\n",
    "Host <hpc-service>\n",
    "  IdentityFile id_ed25519_service\n",
    "  User userid_service\n",
    "  ForwardAgent yes\n",
    "```\n",
    "\n",
    "Now we need add the key for <hpc-service> to our agent:\n",
    "\n",
    "```bash\n",
    "ssh-add -t 3600 id_ed25519_service\n",
    "Enter passphrase for home/user/.ssh/id_ed25519_service: [Passphrase]\n",
    "Identity added: home/user/.ssh/id_ed25519_service (home/user/.ssh/id_ed25519_service)\n",
    "Lifetime set to 3600 seconds\n",
    "```\n",
    "\n",
    "and the key for the onward service we wish to connect to:\n",
    "\n",
    "```\n",
    "ssh-add -t 3600 id_ed25519_github\n",
    "Enter passphrase for home/user/.ssh/id_ed25519_github: [Passphrase]\n",
    "Identity added: home/user/.ssh/id_ed25519_github (home/user/.ssh/id_ed25519_github)\n",
    "Lifetime set to 3600 seconds\n",
    "```\n",
    "\n",
    "Now we can connect to the service and use our **github** key on the remote machine.  Note that both keys will be forwarded by the agent."
   ]
  },
  {
   "cell_type": "markdown",
   "metadata": {},
   "source": [
    "## Key Points:\n",
    "\n",
    "- By using ForwardAgent we can make our keys available on remote services *that we trust* to enable onward connections or data transfer betwwen remote systems"
   ]
  }
 ],
 "metadata": {
  "kernelspec": {
   "display_name": "Python 3",
   "language": "python",
   "name": "python3"
  },
  "language_info": {
   "codemirror_mode": {
    "name": "ipython",
    "version": 3
   },
   "file_extension": ".py",
   "mimetype": "text/x-python",
   "name": "python",
   "nbconvert_exporter": "python",
   "pygments_lexer": "ipython3",
   "version": "3.7.4"
  }
 },
 "nbformat": 4,
 "nbformat_minor": 2
}

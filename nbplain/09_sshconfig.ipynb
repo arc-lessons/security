{
 "cells": [
  {
   "cell_type": "markdown",
   "metadata": {},
   "source": [
    "# Other features of ssh config"
   ]
  },
  {
   "cell_type": "markdown",
   "metadata": {},
   "source": [
    "## Overview:\n",
    "- **Teaching:** 20 min\n",
    "- **Exercises:** 0 min\n",
    "\n",
    "**Questions**\n",
    "- How else can I use ssh config to make my life easier?\n",
    "\n",
    "**Objectives**\n",
    "- Know that you can use ssh config to store connection properties to allow you to use them more easily."
   ]
  },
  {
   "cell_type": "markdown",
   "metadata": {},
   "source": [
    "## More features of ssh config\n",
    "\n",
    "First we can create an alias service which we can use to ssh to the remote without having to use the full domain name:\n",
    "\n",
    "```bash\n",
    "Host service\n",
    "  HostName <hpc-service>\n",
    "  IdentityFile id_ed25519_service\n",
    "  User userid_service\n",
    "  ForwardAgent yes\n",
    "```\n",
    "\n",
    "We have also added `HostName`, which will be the full name of the server we connect to, so we can now connect to `ssh [userID]@<hpc-service>` with just `ssh serviceA`.\n",
    "\n"
   ]
  },
  {
   "cell_type": "markdown",
   "metadata": {},
   "source": [
    "## Key Points:\n",
    "\n",
    "- ssh config allows use to store properties of connections to access them more easily"
   ]
  }
 ],
 "metadata": {
  "kernelspec": {
   "display_name": "Python 3",
   "language": "python",
   "name": "python3"
  },
  "language_info": {
   "codemirror_mode": {
    "name": "ipython",
    "version": 3
   },
   "file_extension": ".py",
   "mimetype": "text/x-python",
   "name": "python",
   "nbconvert_exporter": "python",
   "pygments_lexer": "ipython3",
   "version": "3.7.4"
  }
 },
 "nbformat": 4,
 "nbformat_minor": 2
}

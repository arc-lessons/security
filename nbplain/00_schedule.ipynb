{
 "cells": [
  {
   "cell_type": "markdown",
   "metadata": {
    "slideshow": {
     "slide_type": "slide"
    }
   },
   "source": [
    "# Security and Safe Use of SSH Keys\n",
    "\n",
    "This lessons gives an overview of the importance of security and the safe use of HPC systems and related services which may use ssh keys."
   ]
  },
  {
   "cell_type": "markdown",
   "metadata": {
    "slideshow": {
     "slide_type": "slide"
    }
   },
   "source": [
    "## Prerequisites:\n",
    "\n",
    "* Experience or need to work with HPC systems.\n",
    "* Wanting to learn how to work securely and conveniently with remote servers and services."
   ]
  },
  {
   "cell_type": "markdown",
   "metadata": {
    "slideshow": {
     "slide_type": "slide"
    }
   },
   "source": [
    "## Schedule:\n",
    "\n",
    "| Time | Episode | Description |\n",
    "|---|---|---|\n",
    "| 0:00 | [Security](01_security.ipynb) | Why must I care about security? |\n",
    "| 0:10 | [SSH access](02_ssh.ipynb) | What is ssh and how do I use it? |\n",
    "| 0:20 | [Passwords](03_passwords.ipynb) | How can I create secure passwords? |\n",
    "| 0:30 | [SSH keys](04_sshkeys.ipynb) | What are ssh keys and how can I use them safely? |\n",
    "| 0:45 | [National/Regional HPC](05_nat_reg.ipynb) | How do I work with keys on National/Regional services? |\n",
    "| 1:00 | [Unmanaged systems](06_sshcopy.ipynb) | How can I manage my keys on remote systems? |\n",
    "| 1:15 | [SSH Agent](07_sshagent.ipynb) | How can I work more convenientely with ssh keys? |\n",
    "| 1:30 | [Agent forwarding](08_forwardagent.ipynb) | How do work securely with keys on multiple systems? |\n",
    "| 1:45 | [ssh config](09_sshconfig.ipynb) | What other automagic can I do with ssh config? |"
   ]
  },
  {
   "cell_type": "markdown",
   "metadata": {
    "slideshow": {
     "slide_type": "slide"
    }
   },
   "source": [
    "## Information: References\n",
    "\n",
    "This material draws from a number of resources:\n",
    "\n",
    "1. [Archer 2 connecting docs](https://docs.archer2.ac.uk/user-guide/connecting.html)\n",
    "2. [Levi Velazquez How to use SSH properly ...](https://dev.to/levivm/how-to-use-ssh-and-ssh-agent-forwarding-more-secure-ssh-2c32)"
   ]
  }
 ],
 "metadata": {
  "celltoolbar": "Slideshow",
  "kernelspec": {
   "display_name": "Python 3",
   "language": "python",
   "name": "python3"
  },
  "language_info": {
   "codemirror_mode": {
    "name": "ipython",
    "version": 3
   },
   "file_extension": ".py",
   "mimetype": "text/x-python",
   "name": "python",
   "nbconvert_exporter": "python",
   "pygments_lexer": "ipython3",
   "version": "3.8.3"
  }
 },
 "nbformat": 4,
 "nbformat_minor": 2
}

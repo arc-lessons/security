{
 "cells": [
  {
   "cell_type": "markdown",
   "metadata": {},
   "source": [
    "# Use ssh agent to hold your keys"
   ]
  },
  {
   "cell_type": "markdown",
   "metadata": {},
   "source": [
    "## Overview:\n",
    "- **Teaching:** 20 min\n",
    "- **Exercises:** 0 min\n",
    "\n",
    "**Questions**\n",
    "- Can I manage the deetails of my remotes to store details of credentials on different systems?\n",
    "- Can I work more conveniently with keys so I don't have to use my passphrase everytime I access a resource?\n",
    "\n",
    "**Objectives**\n",
    "- Know how to check whether ssh agent is running and start it if necessary\n",
    "- Know how to add keys to the agent\n",
    "- Understand which keys to add and when it might be appropriate to time limit the keys"
   ]
  },
  {
   "cell_type": "markdown",
   "metadata": {},
   "source": [
    "### Information:  Using config\n",
    "\n",
    "Remembering your credentials and which key you use for different services can become non-trivial if you work with many remote systems.  You can use the ssh config file, `~/.ssh/config` to specify features of your connection e.g. if you have different usernames on different systems:\n",
    "\n",
    "```bash\n",
    "Host service\n",
    "  IdentityFile id_ed25519_service\n",
    "  User userid_service\n",
    "```"
   ]
  },
  {
   "cell_type": "markdown",
   "metadata": {},
   "source": [
    "### Enabling the SSH Agent\n",
    "\n",
    "So far we have just replaced the need to enter a password to access a remote host with the need to enter a key pair passphrase.  Because of this is may be tempting to leave the passphrase empty when creating your key so that we do not have to enter it every time we access a service which may be many times a day.  This is poor security practise and is  likely to be in breach of the acceptable use policies covering the services you are accessing.\n",
    "\n",
    "It is also a completely unnecessary risk as you can enable an agent on your local system so that you only have to enter the passphrase *once* and after that you will be able to access the remote system without entering the passphrase.  Here we will demostrate how to use `ssh-agent` but:\n",
    "\n",
    "* on Linux you might want to consider the [GNOME keyring](https://wiki.gnome.org/Projects/GnomeKeyring)\n",
    "* if using `putty` you can use [pageant](https://www.ssh.com/ssh/putty/putty-manuals/0.68/Chapter9.html)\n",
    "* if using MobaXterm you can use its internal [MobAgent](https://help.jasmin.ac.uk/article/4832-mobaxterm)"
   ]
  },
  {
   "cell_type": "markdown",
   "metadata": {},
   "source": [
    "### Information: Start `ssh-agent`\n",
    "\n",
    "Most modern Linux distributions (and macOS) should have ssh-agent running by default. If your system does not then you should find the instructions for enabling it in your distribution using Google.  Typically you can check this with:\n",
    "\n",
    "```bash\n",
    "echo $SSH_AGENT_PID\n",
    "\n",
    "```\n",
    "\n",
    "If the output is empty then it isn't running.  It can be launched with:\n",
    "\n",
    "```bash\n",
    "eval `ssh-agent`\n",
    "Agent pid 123\n",
    "```\n",
    "\n",
    "and now you can confirm it is running with:\n",
    "\n",
    "```bash\n",
    "echo $SSH_AGENT_PID\n",
    "123\n",
    "```"
   ]
  },
  {
   "cell_type": "markdown",
   "metadata": {},
   "source": [
    "### Adding your key to the agent\n",
    "\n",
    "To add the private part of your key pair to the SSH Agent, use the `ssh-add` command (on your local machine).  \n",
    "\n",
    "```bash\n",
    "ssh-add\n",
    "```\n",
    "\n",
    "By default this will add the files: `~/.ssh/id_rsa`, `~/.ssh/id_dsa`, `~/.ssh/id_ecdsa`, `~/ssh/id_ed25519` and `~/.ssh/identity`, if they exist.\n",
    "\n",
    "If we want to add a specific key that is not one of these we must specify it explicitly:\n",
    "\n",
    "```bash\n",
    "ssh-add ~/.ssh/id_ed25519-service\n",
    "Enter passphrase for home/user/.ssh/id_ed25519_service: [Passphrase]\n",
    "Identity added: home/user/.ssh/id_ed25519_service (home/user/.ssh/id_ed25519_service)\n",
    "```\n",
    "\n",
    "We can also add keys for a specific length of time.  To add the key for one hour we inculde the flag and parameter `-t 3600`, you will need to enter your passphrase one more time:\n",
    "\n",
    "```bash\n",
    "ssh-add -t 3600 ~/.ssh/id_ed25519-service\n",
    "Enter passphrase for home/user/.ssh/id_ed25519_service: [Passphrase]\n",
    "Identity added: home/user/.ssh/id_ed25519_service (home/user/.ssh/id_ed25519_service)\n",
    "Lifetime set to 3600 seconds\n",
    "```\n",
    "\n",
    "Now you can test that you can access the remote host without needing to enter your passphrase:\n",
    "\n",
    "```bash\n",
    "ssh [userID]@<hpc-service> 'date'\n",
    "Wed May  8 10:42:56 BST 2020\n",
    "```\n",
    "\n",
    "again we have run date on the remote service to confirm that we have been able to use the ssh-agent successfully.\n",
    "\n",
    "Remember that in the above `user` will be your username on your local machine and that `[userID]` is you username on the remote `<hpc-service>`."
   ]
  },
  {
   "cell_type": "markdown",
   "metadata": {},
   "source": [
    "### Information: Agent lifetime\n",
    "\n",
    "By default ssh-agent will store your key *forever*, until the machine is rebooted.  Remember that we are trying to ensure that we operate as securely as possible.  If we could be completely confident that our local machine could not be taken and compromised then we would not use passwords.\n",
    "\n",
    "Similarly with the ssh-agent we must consider how long that the passphrase needs to be or should be remembered.  If we are in a secure office at work and we will be accessing the service repeatedly throughout the day then we might want the key to be remembered for several hours.  If we are doing half an hour's work in a cafe we would probably want to have the keys stored for that length of time.  Note that the time is in seconds.\n",
    "\n",
    "At the end of a session you can remove all stored keys with:\n",
    "\n",
    "```bash\n",
    "ssh-add -D\n",
    "```"
   ]
  },
  {
   "cell_type": "markdown",
   "metadata": {},
   "source": [
    "### Information: Moving data\n",
    "\n",
    "If you use `scp`, `rsync` or `sftp` to transfer files then since these use SSH they will use your ssh config file and stored keys in exactly the same way as running ssh.  "
   ]
  },
  {
   "cell_type": "markdown",
   "metadata": {},
   "source": [
    "## Key Points:\n",
    "\n",
    "- Check whether the ssh agent is running with `echo $SSH_AGENT_PID`\n",
    "- If the output is empty then it isn't running. It can be launched with:\n",
    "```\n",
    "eval `ssh-agent`\n",
    "```\n",
    "- Add default key names with `ssh-add` or specific keys with `ssh-add ~/.ssh/id_ed25519-service`\n",
    "- Think about whether it might be prudent to time limite your keys with `ssh-add -t XXXX`\n",
    "- Remove all keys from the agent with `ssh-add -D`"
   ]
  }
 ],
 "metadata": {
  "kernelspec": {
   "display_name": "Python 3",
   "language": "python",
   "name": "python3"
  },
  "language_info": {
   "codemirror_mode": {
    "name": "ipython",
    "version": 3
   },
   "file_extension": ".py",
   "mimetype": "text/x-python",
   "name": "python",
   "nbconvert_exporter": "python",
   "pygments_lexer": "ipython3",
   "version": "3.7.4"
  }
 },
 "nbformat": 4,
 "nbformat_minor": 2
}

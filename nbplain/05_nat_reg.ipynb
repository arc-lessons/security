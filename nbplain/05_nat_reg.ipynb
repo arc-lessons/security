{
 "cells": [
  {
   "cell_type": "markdown",
   "metadata": {},
   "source": [
    "# UK: National and Regional Services"
   ]
  },
  {
   "cell_type": "markdown",
   "metadata": {},
   "source": [
    "## Overview:\n",
    "- **Teaching:** 15 min\n",
    "- **Exercises:** 0 min\n",
    "\n",
    "**Questions**\n",
    "- How can I manage ssh keeys on the UK national and regional HPC systems\n",
    "\n",
    "**Objectives**\n",
    "- Know that SSH keys are often managed centrally and how to get them updated"
   ]
  },
  {
   "cell_type": "markdown",
   "metadata": {},
   "source": [
    "## Information: National and regional resources\n",
    "\n",
    "On many national and regional resources e.g. ARCHER, ARCHER2 and the Tier-2 sites it is compulsory to use public keys and these will often be required as part of your application to use the service and added for you.  If you need to change you key on these services you can change in the SAFE the system uses and it will be updated for you:"
   ]
  },
  {
   "cell_type": "markdown",
   "metadata": {},
   "source": [
    "We make every attempt to ensure that the information here is up-to-date but suggest you cehck the site documentation for confirmation:\n",
    "\n",
    "| SAFE | System | \n",
    "|------|-----|\n",
    "| [ARCHER](https://www.archer.ac.uk/safe/) | [Archer](www.archer.ac.uk) |\n",
    "| [ARCHER-Tier2](https://www.archer.ac.uk/tier2/) | [CSD3](https://www.hpc.cam.ac.uk/high-performance-computing) |\n",
    "| [ARCHER-Tier2](https://www.archer.ac.uk/tier2/) | [Isambard](https://gw4-isambard.github.io/docs/) |\n",
    "| [ARCHER-Tier2](https://www.archer.ac.uk/tier2/) | [Midlands+](https://www.hpc-midlands-plus.ac.uk/) |\n",
    "| [ARCHER-Tier2](https://www.archer.ac.uk/tier2/) | [JADE](https://www.jade.ac.uk/) |\n",
    "| [ARCHER-Tier2](https://www.archer.ac.uk/tier2/) | [MMM Hub](https://mmmhub.ac.uk/) |\n",
    "| [Cirrus](https://www.archer.ac.uk/cirrus/login.jsp) | [Cirrus](https://www.cirrus.ac.uk/)"
   ]
  },
  {
   "cell_type": "markdown",
   "metadata": {},
   "source": [
    "## Information: Archer and Tier-2\n",
    "\n",
    "Note that while there are different access points for Archer and Tier-2 they use the ***same ssh key***.\n",
    "This means that if you change the ssh-key you have registered for Archer it will also change on any Tier-2 systems that you yhave access to, and vice-versa."
   ]
  },
  {
   "cell_type": "markdown",
   "metadata": {},
   "source": [
    "## Information: UK National and Tier-2 Centres\n",
    "\n",
    "By default the SAFE(s) used to manage accounts on machine for national and Tier-2 centres requires users to use a single key for access to all machines in each SAFE as indicated above.  Currently you must use RSA keys so we would recommend:\n",
    "\n",
    "```bash\n",
    "ssh-keygen -o -a 100 -t rsa -b 4096 -f ~/.ssh/id_rsa_archer_safe\n",
    "```\n",
    "\n",
    "or at least\n",
    "\n",
    "```bash\n",
    "ssh-keygen -o -a 100 -t rsa -b 2048 -f ~/.ssh/id_rsa_archer_safe\n",
    "```\n",
    "\n",
    "Once you have added your key to the SAFE, the key will be added to the services your use by system operators.\n",
    "\n",
    "**As of 21st May 2010 the UK national supercomputing service ARCHER will require both SSH key and username to log-in.**"
   ]
  },
  {
   "cell_type": "markdown",
   "metadata": {},
   "source": [
    "## Key Points:\n",
    "\n",
    "- some national and regional services manage your ssh key.  You add iyour **public** key to the relevant `SAFE` and it will be added for you."
   ]
  }
 ],
 "metadata": {
  "kernelspec": {
   "display_name": "Python 3",
   "language": "python",
   "name": "python3"
  },
  "language_info": {
   "codemirror_mode": {
    "name": "ipython",
    "version": 3
   },
   "file_extension": ".py",
   "mimetype": "text/x-python",
   "name": "python",
   "nbconvert_exporter": "python",
   "pygments_lexer": "ipython3",
   "version": "3.7.4"
  }
 },
 "nbformat": 4,
 "nbformat_minor": 2
}

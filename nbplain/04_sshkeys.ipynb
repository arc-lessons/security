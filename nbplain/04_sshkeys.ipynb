{
 "cells": [
  {
   "cell_type": "markdown",
   "metadata": {},
   "source": [
    "# SSH keys"
   ]
  },
  {
   "cell_type": "markdown",
   "metadata": {},
   "source": [
    "## Overview:\n",
    "- **Teaching:** 15 min\n",
    "- **Exercises:** 0 min\n",
    "\n",
    "**Questions**\n",
    "- How can I generate ssh keys for use with HPC and other remote servces\n",
    "- How does the use of ssh kys improve the security of remote connections\n",
    "\n",
    "**Objectives**\n",
    "- Know that ssh_keys are an alternative to password authentication that can be used to increase the security of remote connections\n",
    "- Understand how to generate **secure** ssh keys"
   ]
  },
  {
   "cell_type": "markdown",
   "metadata": {},
   "source": [
    "## Information: What is a public key pair?\n",
    "\n",
    "A public key pair consists of two parts, a public part and a private part which are related.  One is used to lock the message the other is used to unlock the message:\n",
    "\n",
    "* The public part is used to lock (encrypt) the message so that it can be sent over the internet and can be shared.\n",
    "* The private part is used to unlock (decrpyt) the message and should not be shared."
   ]
  },
  {
   "cell_type": "markdown",
   "metadata": {},
   "source": [
    "## Set up an SSH key pair *protected by a passphrase*\n",
    "\n",
    "Some systems will also/instead require you to set up an SSH key pair to access the services.  The SSH key pair consists of a private part and a public part.  The public key can be put on remote machines to allow you to log-in without the use of a password.  You keep the private part of the key secure on your local machine protected with a passphrase.\n",
    "\n",
    "Public key encryption uses fancy maths to enable secure communication over an open channel.  There are a number of methods the most common being [RSA](https://en.wikipedia.org/wiki/RSA_(cryptosystem)) which uses prime numbers.  If you are going to use this you should use a key size of at least 2048 and preferably 4096.  Public keys can be broken with brute force computation and the longer the key the more secure it is.\n",
    "\n",
    "An alternative encryption method and the one we recommend you to use are based on [EdDSA](https://en.wikipedia.org/wiki/EdDSA) (Ed25519).  For our purposes the key pair works in the same way.  Your public key can go on the remote resource or service and the private key is kept protected on your local machine.  You can generate a key pair with:\n",
    "\n",
    "```bash\n",
    "ssh-keygen -o -a 100 -t ed25519 -f ~/.ssh/id_ed25519\n",
    "```\n",
    "\n",
    "* `ssh-keygen` is the command to generate the key pair\n",
    "* `-o` specifies to use a strong format to save the key\n",
    "* `-a 100` increases the strength of encryption with your passphrase\n",
    "* `-t ed25519` specifies the encryption method used\n",
    "* `-f filename` specifies the name of the ssh key, by default these are stored in the directory `~/.ssh`\n",
    "\n",
    "When you create a SSH key pair you will be prompted to provide a `passphrase`.  This is effectively password for your private key and like a password should be kept secret.  Now when you try to use the key, you should be asked for your key pair **passphase** (which you entered when you created the key pair) rather than your remote machine **password**."
   ]
  },
  {
   "cell_type": "markdown",
   "metadata": {},
   "source": [
    "## Windows\n",
    "\n",
    "If you have a Windows machine then you can create keys with:\n",
    "\n",
    "* Putty, use puttygen\n",
    "* MobaXterm, use MobaKeyGen\n",
    "\n",
    "They use essentially the same interface to generate keys with these [instructions](https://docs.computecanada.ca/wiki/Generating_SSH_keys_in_Windows/en)."
   ]
  },
  {
   "cell_type": "markdown",
   "metadata": {},
   "source": [
    "## Exercise: Generate an ssh key\n",
    "\n",
    "### Linux:\n",
    "\n",
    "Using the above command on your **local machine** generate an ssh key.\n",
    "\n",
    "### Windows:\n",
    "\n",
    "By following the instructions above or for gui interface at the [puttygen website](https://www.puttygen.com/) generate an ssh key."
   ]
  },
  {
   "cell_type": "markdown",
   "metadata": {},
   "source": [
    "## Information: Use passphrases\n",
    "\n",
    "*If you do not use a passphrase then if someone gets hold of your private key they will be able to use your key to log in on any machine where you use that key.*"
   ]
  },
  {
   "cell_type": "markdown",
   "metadata": {},
   "source": [
    "On systems or services you may not be able to use the `EdDSA` encryption.  In this case we recommend that you should use RSA keys of length 4096 (and at least 2048):\n",
    "\n",
    "```bash\n",
    "ssh-keygen -o -a 100 -t rsa -b 4096\n",
    "```"
   ]
  },
  {
   "cell_type": "markdown",
   "metadata": {},
   "source": [
    "## Information: Private keys are private\n",
    "\n",
    "While it is necessary to share you public key in order to use public key encryption, the private key should never be shared or stored on remote services even though it is protected with a **passphrase**."
   ]
  },
  {
   "cell_type": "markdown",
   "metadata": {},
   "source": [
    "## Exercise: Sharing keys\n",
    "\n",
    "The use of ssh keys is great for restricting access to users who have registered keys on the system, but would is the consequence if someone else gets hold of your keys.  What would happen if you were to use someone else's key?\n",
    "\n",
    "[Solution]()"
   ]
  },
  {
   "cell_type": "markdown",
   "metadata": {},
   "source": [
    "## Solution: Sharing keys\n",
    "\n",
    "Entries in the authorized\\_keys allows anyone with the matching private key to log in to the remote service with your credentials.  Therefore if someone can access your private key they can access any systems you use it on.  This is why we protect our keys with a passphrase.  \n",
    "\n",
    "Similarly if you add someone else's public key you are effectively handing them your identity and password to your account on a remote system.\n",
    "\n",
    "1. ***Always use a passphrase***\n",
    "2. ***Never share keys, just like you never share passwords*** "
   ]
  },
  {
   "cell_type": "markdown",
   "metadata": {},
   "source": [
    "## Information: Key permissions\n",
    "\n",
    "SSH requires that the private key has permissions:\n",
    "\n",
    "```bash\n",
    "-rw------- 1 user group  464 May 14 23:31 id_ed25519\n",
    "```\n",
    "\n",
    "This should be set correclly by default when you generate the key pair. If this changes for any reason SSH will reject your key when you attempt to use it.  You can correct the permissions with `chmod go-rwx -R ~/.ssh`, but should also make sure you understand why it isn't correct."
   ]
  },
  {
   "cell_type": "markdown",
   "metadata": {},
   "source": [
    "## Key pairs for multiple services\n",
    "\n",
    "So far we have generated a single key with a default name for one service.  Using strong keys means that the key should secure but what happens if the key is compromised?  An intruder can now access all systems on which we use this key.  Therefore it is good practice to use a different key for each service you use. In order to do this you need to specify the name of key file:\n",
    "\n",
    "```bash\n",
    "ssh-keygen -o -a 100 -t ed25519 -f ~/.ssh/id_ed25519_service\n",
    "```\n",
    "\n",
    "Before when we connected to the remote machine `ssh` automatically tried default keys it found in `~/.ssh`. We can specify that we wish to use a specific key with:\n",
    "\n",
    "```bash\n",
    "ssh -i ~/.ssh/id_ed25519_service [userID]@<hpc-service>\n",
    "```\n",
    "\n",
    "However we now have an issue that we need to remember and specify the key we want to use for each service and typeout a longer command each time we want to connect to remote machines.  We can simplify this by adding the Host, and key file to our **ssh config**.  Edit `~/.ssh/config` and add/include:\n",
    "\n",
    "```bash\n",
    "Host <hpc-service>\n",
    "    IdentityFile ~/.ssh/id_ed25519_service\n",
    "```\n",
    "\n",
    "Now when we connect to the service:\n",
    "\n",
    "```bash\n",
    "ssh [userID]@<hpc-service>\n",
    "```"
   ]
  },
  {
   "cell_type": "markdown",
   "metadata": {},
   "source": [
    "## Information: How many keys?\n",
    "\n",
    "Having too many keys can become confusing so as an example I have a key for:\n",
    "\n",
    "1. our local HPC service\n",
    "2. local university systems\n",
    "3. github\n",
    "4. national/Tier 2 services\n",
    "5. personal use"
   ]
  },
  {
   "cell_type": "markdown",
   "metadata": {},
   "source": [
    "## Exercise: Generate a second key for github\n",
    "\n",
    "Generate yourself a second key for use on github."
   ]
  },
  {
   "cell_type": "markdown",
   "metadata": {},
   "source": [
    "## Key Points:\n",
    "\n",
    "- the use of ssh keys restrict access to users with public keys registered on the remote service\n",
    "- **passphrases** must be used to protect private keys\n",
    "- we recommend using the ed25519 key type but make sure this is supported by your service"
   ]
  }
 ],
 "metadata": {
  "kernelspec": {
   "display_name": "Python 3",
   "language": "python",
   "name": "python3"
  },
  "language_info": {
   "codemirror_mode": {
    "name": "ipython",
    "version": 3
   },
   "file_extension": ".py",
   "mimetype": "text/x-python",
   "name": "python",
   "nbconvert_exporter": "python",
   "pygments_lexer": "ipython3",
   "version": "3.7.4"
  }
 },
 "nbformat": 4,
 "nbformat_minor": 2
}
